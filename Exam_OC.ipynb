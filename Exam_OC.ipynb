{
 "cells": [
  {
   "cell_type": "code",
   "execution_count": 1,
   "metadata": {},
   "outputs": [],
   "source": [
    "import numpy as np\n",
    "import matplotlib.pyplot as plt\n",
    "from numpy.linalg import inv\n",
    "import scipy.stats\n",
    "import pandas"
   ]
  },
  {
   "cell_type": "markdown",
   "metadata": {},
   "source": [
    "### Barrier Method\n",
    "\n",
    "We will use the code of barrier method from the homework 3."
   ]
  },
  {
   "cell_type": "code",
   "execution_count": 2,
   "metadata": {},
   "outputs": [],
   "source": [
    "def g_t(t,v):\n",
    "    s=0\n",
    "    for i in range(2*m):\n",
    "        s=s+np.log(b[i]-(A[i,:].reshape(1,-1)).dot(v))\n",
    "    aux=np.dot(v.T,Q.dot(v))+np.dot(p.T,v)\n",
    "    return(t*aux-s)"
   ]
  },
  {
   "cell_type": "code",
   "execution_count": 3,
   "metadata": {},
   "outputs": [],
   "source": [
    "def grad_g_t(t,v):\n",
    "    s=0\n",
    "    for i in range(2*m):\n",
    "        s=s+A[i,:].reshape(-1,1)/(b[i]-(A[i,:].reshape(1,-1)).dot(v))\n",
    "    aux=(Q+Q.T).dot(v)+p\n",
    "    return(t*aux+s)"
   ]
  },
  {
   "cell_type": "code",
   "execution_count": 4,
   "metadata": {},
   "outputs": [],
   "source": [
    "def hess_g_t(t,v):\n",
    "    s=0\n",
    "    for i in range(2*m):\n",
    "        s=s+(A[i,:].reshape(-1,1).dot(A[i,:].reshape(1,-1))/((b[i]-A[i,:].dot(v))**2))\n",
    "    aux=Q+Q.T \n",
    "    return(t*aux+s)"
   ]
  },
  {
   "cell_type": "code",
   "execution_count": 5,
   "metadata": {},
   "outputs": [],
   "source": [
    "def backtracking(alpha,beta,v,v_step,t):\n",
    "    t_tilde=1\n",
    "    while not((b-A.dot(v+t_tilde*v_step)>0).all()) or g_t(t,v+t_tilde*v_step)>g_t(t,v)+alpha*t_tilde*np.dot(grad_g_t(t,v).T,v_step):\n",
    "        t_tilde=beta*t_tilde\n",
    "    return t_tilde"
   ]
  },
  {
   "cell_type": "code",
   "execution_count": 6,
   "metadata": {},
   "outputs": [],
   "source": [
    "def centering_step(Q,p,A,b,t,v0,eps):\n",
    "    v_seq=[]\n",
    "    v_seq.append(v0) \n",
    "    v=v0\n",
    "    n_iter=0\n",
    "    while True: \n",
    "        #compute Newton's step & decrement for v\n",
    "        v_step=np.dot(-inv(hess_g_t(t,v)),grad_g_t(t,v))\n",
    "        decr=-np.dot(grad_g_t(t,v).T,v_step)\n",
    "        if (0.5*decr) <= eps:\n",
    "            break \n",
    "        else :\n",
    "            #backtracking line search \n",
    "            t1=backtracking(alpha,beta,v,v_step,t)\n",
    "            #update\n",
    "            v=v+t1*v_step\n",
    "            v_seq.append(v)\n",
    "            n_iter=n_iter+1\n",
    "    return(n_iter, v_seq[-1])"
   ]
  },
  {
   "cell_type": "code",
   "execution_count": 7,
   "metadata": {},
   "outputs": [],
   "source": [
    "def barr_method(Q,p,A,b,v0,eps,mu):\n",
    "    v_seq=[]\n",
    "    v_seq.append(v0) \n",
    "    v=v0\n",
    "    t=1 \n",
    "    n_iter2=[0]\n",
    "    while True: \n",
    "        #centering step\n",
    "        n_iter, v = centering_step(Q,p,A,b,t,v,eps)\n",
    "        v_seq.append(v)\n",
    "        n_iter2.append(n_iter2[-1]+n_iter)\n",
    "        if (2*m)/t < eps:\n",
    "            break \n",
    "        else :\n",
    "            #update\n",
    "            t=mu*t\n",
    "        \n",
    "    return(n_iter2, v_seq) "
   ]
  },
  {
   "cell_type": "code",
   "execution_count": 8,
   "metadata": {},
   "outputs": [],
   "source": [
    "#generation of data \n",
    "\n",
    "m=100\n",
    "n=50\n",
    "\n",
    "from sklearn.datasets import make_classification\n",
    "X,y = make_classification(n_samples=m, n_features=n, n_classes=2)\n",
    "\n",
    "for i in range(m):\n",
    "    if y[i]==0:\n",
    "        y[i]=-1\n",
    "        \n",
    "y=np.diag(y)"
   ]
  },
  {
   "cell_type": "markdown",
   "metadata": {},
   "source": [
    "### Primal problem"
   ]
  },
  {
   "cell_type": "code",
   "execution_count": 9,
   "metadata": {},
   "outputs": [],
   "source": [
    "c=0.1 \n",
    "alpha=0.3\n",
    "beta=0.8\n",
    "eps=1e-6\n",
    "mu=10\n",
    "\n",
    "#initial point (must be strictly feasible because of log) \n",
    "v0=2*np.ones((m+n,1))\n",
    "v0[:n]=0\n",
    "#Q\n",
    "Q=np.zeros((m+n,m+n))\n",
    "Q[:n,:n]=0.5*np.eye(n)\n",
    "#p\n",
    "p=np.zeros((m+n,1))\n",
    "p[n:m+n]=c*np.ones((m,1))\n",
    "\n",
    "#A\n",
    "A=np.zeros((2*m,m+n))\n",
    "A[:m,:n]=-np.dot(y,X)  \n",
    "A[:m,n:m+n]=-np.eye(m)\n",
    "A[m:2*m,n:m+n]=-np.eye(m)\n",
    "#b\n",
    "b=np.zeros((2*m,1))\n",
    "b[0:m]=-np.ones((m,1))"
   ]
  },
  {
   "cell_type": "code",
   "execution_count": 10,
   "metadata": {},
   "outputs": [
    {
     "data": {
      "text/plain": [
       "<matplotlib.legend.Legend at 0x1ae3e579220>"
      ]
     },
     "execution_count": 10,
     "metadata": {},
     "output_type": "execute_result"
    },
    {
     "data": {
      "image/png": "[encoded data removed]",
      "text/plain": [
       "<Figure size 432x288 with 1 Axes>"
      ]
     },
     "metadata": {
      "needs_background": "light"
     },
     "output_type": "display_data"
    }
   ],
   "source": [
    "#plot the convergence\n",
    "\n",
    "n_iter2, v_seq = barr_method(Q,p,A,b,v0,eps,mu)\n",
    "v_star = v_seq[-1]\n",
    "f_star=np.dot(v_star.T,Q.dot(v_star))+np.dot(p.T,v_star)\n",
    "    \n",
    "xx=n_iter2\n",
    "xx.remove(xx[-1])\n",
    "xx=(np.array(xx)).reshape(-1,1)\n",
    "    \n",
    "yy=[np.dot(v.T,Q.dot(v))+np.dot(p.T,v) - f_star for v in v_seq]\n",
    "yy.remove(yy[-1])\n",
    "yy=(np.array(yy)).reshape(-1,1)\n",
    "\n",
    "plt.plot(xx,yy, label='c= ' + str(c))\n",
    "plt.semilogy()\n",
    "plt.xlabel('Newton iterations')\n",
    "plt.ylabel('$f(v_{t})-f^{*}$')\n",
    "plt.title('Convergence for primal problem')\n",
    "plt.legend()"
   ]
  },
  {
   "cell_type": "code",
   "execution_count": 11,
   "metadata": {},
   "outputs": [
    {
     "data": {
      "text/plain": [
       "<matplotlib.legend.Legend at 0x1ae4000d640>"
      ]
     },
     "execution_count": 11,
     "metadata": {},
     "output_type": "execute_result"
    },
    {
     "data": {
      "image/png": "[encoded data removed]",
      "text/plain": [
       "<Figure size 432x288 with 1 Axes>"
      ]
     },
     "metadata": {
      "needs_background": "light"
     },
     "output_type": "display_data"
    }
   ],
   "source": [
    "accuracy=[]\n",
    "for c in [0.001, 0.1, 1, 10]:\n",
    "    v0=2*np.ones((m+n,1))\n",
    "    v0[:n]=0\n",
    "    Q=np.zeros((m+n,m+n))\n",
    "    Q[:n,:n]=0.5*np.eye(n)\n",
    "    p=np.zeros((m+n,1))\n",
    "    p[n:m+n]=c*np.ones((m,1))\n",
    "    A=np.zeros((2*m,m+n))\n",
    "    A[:m,:n]=-np.dot(y,X)  \n",
    "    A[:m,n:m+n]=-np.eye(m)\n",
    "    A[m:2*m,n:m+n]=-np.eye(m)\n",
    "    b=np.zeros((2*m,1))\n",
    "    b[0:m]=-np.ones((m,1))\n",
    "    \n",
    "    n_iter2, v_seq = barr_method(Q,p,A,b,v0,eps,mu)\n",
    "    v_star = v_seq[-1]\n",
    "    f_star=np.dot(v_star.T,Q.dot(v_star))+np.dot(p.T,v_star)\n",
    "    \n",
    "    #accuracy\n",
    "    acc=0\n",
    "    X_=X.T\n",
    "    for i in range(m):\n",
    "        if (y[i,i]*np.dot(v_star[0:n].T,X_[:,i].reshape(-1,1)))>0:\n",
    "            acc=acc+1\n",
    "    acc=acc/m\n",
    "    accuracy.append(acc)\n",
    "    \n",
    "    #plot convergence \n",
    "    xx=n_iter2\n",
    "    xx.remove(xx[-1])\n",
    "    xx=(np.array(xx)).reshape(-1,1)\n",
    "    \n",
    "    yy=[np.dot(v.T,Q.dot(v))+np.dot(p.T,v) - f_star for v in v_seq]\n",
    "    yy.remove(yy[-1])\n",
    "    yy=(np.array(yy)).reshape(-1,1)\n",
    "    \n",
    "    plt.plot(xx, yy, label='c= ' + str(c))\n",
    "\n",
    "plt.semilogy()\n",
    "plt.xlabel('Newton iterations')\n",
    "plt.ylabel('$f(v_{t})-f^{*}$')\n",
    "plt.title('Convergence for primal problem for different values of C')\n",
    "plt.legend()"
   ]
  },
  {
   "cell_type": "code",
   "execution_count": 12,
   "metadata": {},
   "outputs": [
    {
     "data": {
      "text/html": [
       "<div>\n",
       "<style scoped>\n",
       "    .dataframe tbody tr th:only-of-type {\n",
       "        vertical-align: middle;\n",
       "    }\n",
       "\n",
       "    .dataframe tbody tr th {\n",
       "        vertical-align: top;\n",
       "    }\n",
       "\n",
       "    .dataframe thead th {\n",
       "        text-align: right;\n",
       "    }\n",
       "</style>\n",
       "<table border=\"1\" class=\"dataframe\">\n",
       "  <thead>\n",
       "    <tr style=\"text-align: right;\">\n",
       "      <th></th>\n",
       "      <th>c=0.001</th>\n",
       "      <th>c=0.1</th>\n",
       "      <th>c=1</th>\n",
       "      <th>c=10</th>\n",
       "    </tr>\n",
       "  </thead>\n",
       "  <tbody>\n",
       "    <tr>\n",
       "      <th>0</th>\n",
       "      <td>0.89</td>\n",
       "      <td>0.94</td>\n",
       "      <td>0.99</td>\n",
       "      <td>1.0</td>\n",
       "    </tr>\n",
       "  </tbody>\n",
       "</table>\n",
       "</div>"
      ],
      "text/plain": [
       "   c=0.001  c=0.1   c=1  c=10\n",
       "0     0.89   0.94  0.99   1.0"
      ]
     },
     "execution_count": 12,
     "metadata": {},
     "output_type": "execute_result"
    }
   ],
   "source": [
    "accuracy=np.array(accuracy).reshape(4,1)\n",
    "accuracy\n",
    "pandas.DataFrame(data={'c=0.001':accuracy[0],'c=0.1':accuracy[1],'c=1':accuracy[2],'c=10':accuracy[3]})"
   ]
  },
  {
   "cell_type": "markdown",
   "metadata": {},
   "source": [
    "We notice that when c grows, the accuracy grows too. Indeed, when the regularization parameter is high, miss-classifications are less allowed. That's why, a good tradeoff would be to take a c not too large, not too small. "
   ]
  },
  {
   "cell_type": "markdown",
   "metadata": {},
   "source": [
    "### Dual problem"
   ]
  },
  {
   "cell_type": "code",
   "execution_count": 13,
   "metadata": {},
   "outputs": [],
   "source": [
    "c=10\n",
    "\n",
    "#initial point (must be strictly feasible because of log) \n",
    "v0=0.5*np.ones((m,1))\n",
    "#Q\n",
    "Q=0.5*np.dot(np.dot(y,X),np.dot(X.T,y))\n",
    "#p\n",
    "p=-np.ones((m,1))\n",
    "\n",
    "#A\n",
    "A=np.concatenate((np.eye(m), -np.eye(m)), axis=0)\n",
    "#b\n",
    "b=np.zeros((2*m,1))\n",
    "b[0:m]=c*np.ones((m,1))"
   ]
  },
  {
   "cell_type": "code",
   "execution_count": 14,
   "metadata": {
    "scrolled": true
   },
   "outputs": [
    {
     "data": {
      "text/plain": [
       "<matplotlib.legend.Legend at 0x1ae400e3a30>"
      ]
     },
     "execution_count": 14,
     "metadata": {},
     "output_type": "execute_result"
    },
    {
     "data": {
      "image/png": "[encoded data removed]",
      "text/plain": [
       "<Figure size 432x288 with 1 Axes>"
      ]
     },
     "metadata": {
      "needs_background": "light"
     },
     "output_type": "display_data"
    }
   ],
   "source": [
    "n_iter2, v_seq = barr_method(Q,p,A,b,v0,eps,mu)\n",
    "v_star = v_seq[-1]\n",
    "f_star=np.dot(v_star.T,Q.dot(v_star))+np.dot(p.T,v_star)\n",
    "    \n",
    "xx=n_iter2\n",
    "xx.remove(xx[-1])\n",
    "xx=(np.array(xx)).reshape(-1,1)\n",
    "    \n",
    "yy=[np.dot(v.T,Q.dot(v))+np.dot(p.T,v) - f_star for v in v_seq]\n",
    "yy.remove(yy[-1])\n",
    "yy=(np.array(yy)).reshape(-1,1)\n",
    "    \n",
    "plt.plot(xx, yy, label='c= ' + str(c))\n",
    "\n",
    "plt.semilogy()\n",
    "plt.xlabel('Newton iterations')\n",
    "plt.ylabel('$f(v_{t})-f^{*}$')\n",
    "plt.title('Convergence for dual problem')\n",
    "plt.legend()"
   ]
  },
  {
   "cell_type": "code",
   "execution_count": 15,
   "metadata": {},
   "outputs": [
    {
     "data": {
      "text/plain": [
       "<matplotlib.legend.Legend at 0x1ae4009b310>"
      ]
     },
     "execution_count": 15,
     "metadata": {},
     "output_type": "execute_result"
    },
    {
     "data": {
      "image/png": "[encoded data removed]",
      "text/plain": [
       "<Figure size 432x288 with 1 Axes>"
      ]
     },
     "metadata": {
      "needs_background": "light"
     },
     "output_type": "display_data"
    }
   ],
   "source": [
    "for c in [1, 10, 100, 1000]:\n",
    "    v0=0.5*np.ones((m,1))\n",
    "    Q=0.5*np.dot(np.dot(y,X),np.dot(X.T,y))\n",
    "    p=-np.ones((m,1))\n",
    "    A=np.concatenate((np.eye(m), -np.eye(m)), axis=0)\n",
    "    b=np.zeros((2*m,1))\n",
    "    b[0:m]=c*np.ones((m,1))\n",
    "    \n",
    "    n_iter2, v_seq = barr_method(Q,p,A,b,v0,eps,mu)\n",
    "    v_star = v_seq[-1]\n",
    "    f_star=np.dot(v_star.T,Q.dot(v_star))+np.dot(p.T,v_star)\n",
    "    \n",
    "    \n",
    "    xx=n_iter2\n",
    "    xx.remove(xx[-1])\n",
    "    xx=(np.array(xx)).reshape(-1,1)\n",
    "    \n",
    "    yy=[np.dot(v.T,Q.dot(v))+np.dot(p.T,v) - f_star for v in v_seq]\n",
    "    yy.remove(yy[-1])\n",
    "    yy=(np.array(yy)).reshape(-1,1)\n",
    "    \n",
    "    plt.plot(xx, yy, label='c= ' + str(c))\n",
    "\n",
    "plt.semilogy()\n",
    "plt.xlabel('Newton iterations')\n",
    "plt.ylabel('$f(v_{t})-f^{*}$')\n",
    "plt.title('Convergence for dual problem for different values of C')\n",
    "plt.legend()"
   ]
  },
  {
   "cell_type": "markdown",
   "metadata": {},
   "source": [
    "For the dual problem, we notice that c has not a great impact on the convergence."
   ]
  },
  {
   "cell_type": "code",
   "execution_count": null,
   "metadata": {},
   "outputs": [],
   "source": []
  }
 ],
 "metadata": {
  "kernelspec": {
   "display_name": "Python 3",
   "language": "python",
   "name": "python3"
  },
  "language_info": {
   "codemirror_mode": {
    "name": "ipython",
    "version": 3
   },
   "file_extension": ".py",
   "mimetype": "text/x-python",
   "name": "python",
   "nbconvert_exporter": "python",
   "pygments_lexer": "ipython3",
   "version": "3.8.3"
  }
 },
 "nbformat": 4,
 "nbformat_minor": 4
}
