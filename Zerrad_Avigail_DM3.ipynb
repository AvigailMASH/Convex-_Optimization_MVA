{
 "cells": [
  {
   "cell_type": "code",
   "execution_count": 4,
   "metadata": {},
   "outputs": [],
   "source": [
    "import numpy as np\n",
    "import matplotlib.pyplot as plt\n",
    "from numpy.linalg import inv"
   ]
  },
  {
   "cell_type": "code",
   "execution_count": 5,
   "metadata": {},
   "outputs": [],
   "source": [
    "def g_t(t,v):\n",
    "    s=0\n",
    "    for i in range(2*d):\n",
    "        s=s+np.log(b[i]-(A[i,:].reshape(1,-1)).dot(v))\n",
    "    aux=np.dot(v.T,Q.dot(v))+np.dot(p.T,v)\n",
    "    return(t*aux-s)"
   ]
  },
  {
   "cell_type": "code",
   "execution_count": 6,
   "metadata": {},
   "outputs": [],
   "source": [
    "def grad_g_t(t,v):\n",
    "    s=0\n",
    "    for i in range(2*d):\n",
    "        s=s+A[i,:].reshape(-1,1)/(b[i]-(A[i,:].reshape(1,-1)).dot(v))\n",
    "    aux=(Q+Q.T).dot(v)+p\n",
    "    return(t*aux+s)"
   ]
  },
  {
   "cell_type": "code",
   "execution_count": 7,
   "metadata": {},
   "outputs": [],
   "source": [
    "def hess_g_t(t,v):\n",
    "    s=0\n",
    "    for i in range(2*d):\n",
    "        s=s+(A[i,:].reshape(-1,1).dot(A[i,:].reshape(1,-1))/((b[i]-A[i,:].dot(v))**2))\n",
    "    aux=Q+Q.T \n",
    "    return(t*aux+s)"
   ]
  },
  {
   "cell_type": "code",
   "execution_count": 8,
   "metadata": {},
   "outputs": [],
   "source": [
    "def backtracking(alpha,beta,v,v_step,t):\n",
    "    t_tilde=1\n",
    "    while not((b-A.dot(v+t_tilde*v_step)>0).all()) or g_t(t,v+t_tilde*v_step)>g_t(t,v)+alpha*t_tilde*np.dot(grad_g_t(t,v).T,v_step):\n",
    "        t_tilde=beta*t_tilde\n",
    "    return t_tilde"
   ]
  },
  {
   "cell_type": "code",
   "execution_count": 9,
   "metadata": {},
   "outputs": [],
   "source": [
    "#Question 2 \n",
    "def centering_step(Q,p,A,b,t,v0,eps):\n",
    "    v_seq=[]\n",
    "    v_seq.append(v0) \n",
    "    v=v0\n",
    "    n_iter=0\n",
    "    while True: \n",
    "        #compute Newton's step & decrement for v\n",
    "        v_step=np.dot(-inv(hess_g_t(t,v)),grad_g_t(t,v))\n",
    "        decr=-np.dot(grad_g_t(t,v).T,v_step)\n",
    "        if (0.5*decr) <= eps:\n",
    "            break \n",
    "        else :\n",
    "            #backtracking line search \n",
    "            t1=backtracking(alpha,beta,v,v_step,t)\n",
    "            #update\n",
    "            v=v+t1*v_step\n",
    "            v_seq.append(v)\n",
    "            n_iter=n_iter+1\n",
    "    return(n_iter, v_seq[-1])"
   ]
  },
  {
   "cell_type": "code",
   "execution_count": 10,
   "metadata": {},
   "outputs": [],
   "source": [
    "def barr_method(Q,p,A,b,v0,eps,mu):\n",
    "    v_seq=[]\n",
    "    v_seq.append(v0) \n",
    "    v=v0\n",
    "    t=1 \n",
    "    n_iter2=[0]\n",
    "    while True: \n",
    "        #centering step\n",
    "        n_iter, v = centering_step(Q,p,A,b,t,v,eps)\n",
    "        v_seq.append(v)\n",
    "        n_iter2.append(n_iter2[-1]+n_iter)\n",
    "        if (2*d)/t < eps:\n",
    "            break \n",
    "        else :\n",
    "            #update\n",
    "            t=mu*t\n",
    "        \n",
    "    return(n_iter2, v_seq)  "
   ]
  },
  {
   "cell_type": "code",
   "execution_count": 11,
   "metadata": {},
   "outputs": [],
   "source": [
    "#question 3\n",
    "n=10\n",
    "d=50  # high dimensional setting : d>>n\n",
    "\n",
    "#np.random.seed(2)\n",
    "from sklearn.datasets import make_regression\n",
    "X,y = make_regression(n_samples=n, n_features=d, n_informative=10, shuffle=True, coef=False, noise = 1)"
   ]
  },
  {
   "cell_type": "code",
   "execution_count": 12,
   "metadata": {},
   "outputs": [],
   "source": [
    "lambda_=10\n",
    "alpha=0.3\n",
    "beta=0.8\n",
    "eps=1e-6\n",
    "mu=10\n",
    "\n",
    "v0=np.zeros((n,1))\n",
    "Q=0.5*np.eye(n)\n",
    "A=np.concatenate((X.T, -X.T), axis=0)\n",
    "p=y.reshape(-1,1)\n",
    "b=lambda_*np.ones((2*d,1))"
   ]
  },
  {
   "cell_type": "code",
   "execution_count": 10,
   "metadata": {},
   "outputs": [
    {
     "data": {
      "text/plain": [
       "<matplotlib.legend.Legend at 0x1aa0c233bc8>"
      ]
     },
     "execution_count": 10,
     "metadata": {},
     "output_type": "execute_result"
    },
    {
     "data": {
      "image/png": "[encoded data removed]",
      "text/plain": [
       "<Figure size 432x288 with 1 Axes>"
      ]
     },
     "metadata": {
      "needs_background": "light"
     },
     "output_type": "display_data"
    }
   ],
   "source": [
    "for mu in [2, 10, 15, 50, 100]:\n",
    "    n_iter2, v_seq = barr_method(Q,p,A,b,v0,eps,mu)\n",
    "    v_star = v_seq[-1]\n",
    "    f_star=np.dot(v_star.T,Q.dot(v_star))+np.dot(p.T,v_star)\n",
    "    \n",
    "    xx=n_iter2\n",
    "    xx.remove(xx[-1])\n",
    "    xx=(np.array(xx)).reshape(-1,1)\n",
    "    \n",
    "    yy=[np.dot(v.T,Q.dot(v))+np.dot(p.T,v) - f_star for v in v_seq]\n",
    "    yy.remove(yy[-1])\n",
    "    yy=(np.array(yy)).reshape(-1,1)\n",
    "    \n",
    "    plt.step(xx, yy, label='mu = ' + str(mu))\n",
    "\n",
    "plt.semilogy()\n",
    "plt.xlabel('Newton iterations')\n",
    "plt.ylabel('Duality gap')\n",
    "plt.legend()"
   ]
  },
  {
   "cell_type": "code",
   "execution_count": null,
   "metadata": {},
   "outputs": [],
   "source": [
    "acc=0\n",
    "for i in range(m):\n",
    "    if (y[i,i]*np.dot(v_star[0:n].T,X[i,:].reshape(-1,1)))>0:\n",
    "        acc=acc+1\n",
    "acc=acc/m\n",
    "acc"
   ]
  }
 ],
 "metadata": {
  "kernelspec": {
   "display_name": "Python 3",
   "language": "python",
   "name": "python3"
  },
  "language_info": {
   "codemirror_mode": {
    "name": "ipython",
    "version": 3
   },
   "file_extension": ".py",
   "mimetype": "text/x-python",
   "name": "python",
   "nbconvert_exporter": "python",
   "pygments_lexer": "ipython3",
   "version": "3.8.3"
  }
 },
 "nbformat": 4,
 "nbformat_minor": 4
}
